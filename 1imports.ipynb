{
 "cells": [
  {
   "cell_type": "markdown",
   "metadata": {},
   "source": [
    "# 1. 1 Imports - EDA"
   ]
  },
  {
   "cell_type": "code",
   "execution_count": 1,
   "metadata": {},
   "outputs": [],
   "source": [
    "import pandas as pd\n",
    "from zipfile import ZipFile\n",
    "from io import BytesIO\n",
    "import numpy as np\n",
    "import os\n",
    "import seaborn as sns\n",
    "import plotly.express as px\n",
    "import plotly.graph_objects as go\n",
    "import plotly.io as pio\n",
    "import kaggle"
   ]
  },
  {
   "cell_type": "code",
   "execution_count": 4,
   "metadata": {},
   "outputs": [
    {
     "name": "stdout",
     "output_type": "stream",
     "text": [
      "Dataset URL: https://www.kaggle.com/datasets/appetukhov/international-trade-database\n",
      "  ReporterISO3 ReporterName PartnerISO3 PartnerName  Year TradeFlowName  \\\n",
      "0          AFG  Afghanistan         SWE      Sweden  2017        Export   \n",
      "1          AFG  Afghanistan         JOR      Jordan  2018        Export   \n",
      "2          AFG  Afghanistan         JOR      Jordan  2017        Export   \n",
      "3          AFG  Afghanistan         ITA       Italy  2018        Export   \n",
      "4          AFG  Afghanistan         ITA       Italy  2017        Export   \n",
      "\n",
      "   TradeValue in 1000 USD  \n",
      "0                  86.752  \n",
      "1                2796.481  \n",
      "2                3100.187  \n",
      "3                 279.918  \n",
      "4                 416.642  \n"
     ]
    }
   ],
   "source": [
    "KAGGLE_USERNAME = \"marpenalva\"\n",
    "KAGGLE_KEY = \"ea42f53179cfa2f6eac83929293413f4\"\n",
    "\n",
    "kaggle.api.authenticate()\n",
    "\n",
    "def download_file_from_kaggle(dataset, path):\n",
    "    kaggle.api.dataset_download_files(dataset, path=path, unzip=True)\n",
    "\n",
    "dataset = \"appetukhov/international-trade-database\"  # Dataset correcto\n",
    "download_path = \"data/\"\n",
    "\n",
    "if not os.path.exists(download_path):\n",
    "    os.makedirs(download_path)\n",
    "\n",
    "download_file_from_kaggle(dataset, download_path)\n",
    "\n",
    "\n",
    "file_path = os.path.join(download_path, 'trade_1988_2021.csv')\n",
    "df = pd.read_csv(file_path)\n",
    "\n",
    "print(df.head())"
   ]
  },
  {
   "cell_type": "code",
   "execution_count": null,
   "metadata": {},
   "outputs": [],
   "source": [
    "df = df.rename(columns={'TradeValue in 1000 USD': 'TradeValue'})"
   ]
  },
  {
   "cell_type": "code",
   "execution_count": null,
   "metadata": {},
   "outputs": [],
   "source": [
    "df = df.drop(columns=['ReporterISO3', 'PartnerISO3'])\n",
    "df = df.rename(columns={'ReporterName': 'Reporter', 'PartnerName': 'Partner', 'TradeFlowName': 'TradeFlow'})\n",
    "df = df[(df['Year'] >= 2000) & (df['Year'] <= 2020)]\n",
    "df= df.fillna(0)"
   ]
  },
  {
   "cell_type": "code",
   "execution_count": null,
   "metadata": {},
   "outputs": [],
   "source": [
    "palabra = 'World'\n",
    "df = df[~df['Partner'].str.contains(palabra)]"
   ]
  },
  {
   "cell_type": "code",
   "execution_count": null,
   "metadata": {},
   "outputs": [],
   "source": [
    "grouped_data = df.groupby(['Year', 'Partner'])['TradeValue'].sum().reset_index()\n",
    "\n",
    "grouped_data.rename(columns={'TradeValue': 'TotalTradeValue'}, inplace=True)"
   ]
  },
  {
   "cell_type": "markdown",
   "metadata": {},
   "source": [
    "## 1.1.1 Importaciones mundiales 2000 - 2020"
   ]
  },
  {
   "cell_type": "code",
   "execution_count": null,
   "metadata": {},
   "outputs": [],
   "source": [
    "years = grouped_data['Year'].unique()\n",
    "\n",
    "for year in range(2000, 2021):\n",
    "\n",
    "    data_year = grouped_data[grouped_data['Year'] == year]\n",
    "    \n",
    "    fig = px.scatter(data_year, x='Partner', y='TotalTradeValue',\n",
    "                     size='TotalTradeValue',\n",
    "                     color='TotalTradeValue',\n",
    "                     hover_name='Partner',\n",
    "                     labels={'PartnerName': 'Partner', 'TotalTradeValue': 'Total Value in 1000 USD'},\n",
    "                     title=f'Imports by country in the year {year}', \n",
    "                     size_max=60)\n",
    "    \n",
    "    fig.update_layout(width=1000, height=600)\n",
    "    \n",
    "    fig.show()\n",
    "    \n",
    "    pio.write_html(fig, file=f'graphs/imp/imports_{year}.html', auto_open=False)"
   ]
  },
  {
   "cell_type": "markdown",
   "metadata": {},
   "source": [
    "## 2.1.2 Top 10 países con más importaciones 2000 - 2020"
   ]
  },
  {
   "cell_type": "code",
   "execution_count": null,
   "metadata": {},
   "outputs": [],
   "source": [
    "years = grouped_data['Year'].unique()\n",
    "\n",
    "for year in range(2000, 2021):\n",
    "\n",
    "    data_year = grouped_data[grouped_data['Year'] == year]\n",
    "    \n",
    "    top10 = data_year.sort_values(by='TotalTradeValue', ascending=False).head(10)\n",
    "    \n",
    "    fig = px.bar(top10, x='Partner', y='TotalTradeValue',\n",
    "                            color='Partner', \n",
    "                           hover_name='Partner', \n",
    "                           labels={'TotalTradeValue': 'Trade Value in 1000 USD', 'Partner': 'Country'},\n",
    "                           title=f'Top 10 Countries with more Imports in the year {year}') \n",
    "    \n",
    "\n",
    "    fig.update_layout(width=1000, height=600)\n",
    "    \n",
    "\n",
    "    fig.show()\n",
    "    \n",
    "    pio.write_html(fig, file=f'graphs/imp/top_imports_{year}.html', auto_open=False)"
   ]
  },
  {
   "cell_type": "markdown",
   "metadata": {},
   "source": [
    "## 2.1.3 Top 10 países con menos importaciones 2000 - 2020"
   ]
  },
  {
   "cell_type": "code",
   "execution_count": null,
   "metadata": {},
   "outputs": [],
   "source": [
    "years = grouped_data['Year'].unique()\n",
    "\n",
    "for year in range(2000, 2020):\n",
    "\n",
    "    data_year = grouped_data[grouped_data['Year'] == year]\n",
    "    \n",
    "    top10 = data_year.sort_values(by='TotalTradeValue', ascending=True).head(10)\n",
    "    \n",
    "    fig = px.bar(top10, x='Partner', y='TotalTradeValue',\n",
    "                            color='Partner', \n",
    "                           hover_name='Partner', \n",
    "                           labels={'TotalTradeValue': 'Trade Value (million of USD)', 'Partner': 'Country'},\n",
    "                           title=f'Top 10 countries with less exports in the year {year}') \n",
    "    \n",
    "\n",
    "    fig.update_layout(width=1000, height=600)\n",
    "    \n",
    "\n",
    "    fig.show()\n",
    "    \n",
    "pio.write_html(fig, file=f'graphs/imp/bottom_imports_{year}.html', auto_open=False)\n"
   ]
  }
 ],
 "metadata": {
  "kernelspec": {
   "display_name": "venv",
   "language": "python",
   "name": "python3"
  },
  "language_info": {
   "codemirror_mode": {
    "name": "ipython",
    "version": 3
   },
   "file_extension": ".py",
   "mimetype": "text/x-python",
   "name": "python",
   "nbconvert_exporter": "python",
   "pygments_lexer": "ipython3",
   "version": "3.11.8"
  }
 },
 "nbformat": 4,
 "nbformat_minor": 2
}
